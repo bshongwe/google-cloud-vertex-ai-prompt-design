{
 "cells": [
  {
   "cell_type": "code",
   "execution_count": 1,
   "metadata": {
    "id": "ur8xi4C7S06n"
   },
   "outputs": [],
   "source": [
    "# Copyright 2024 Google LLC\n",
    "#\n",
    "# Licensed under the Apache License, Version 2.0 (the \"License\");\n",
    "# you may not use this file except in compliance with the License.\n",
    "# You may obtain a copy of the License at\n",
    "#\n",
    "#     https://www.apache.org/licenses/LICENSE-2.0\n",
    "#\n",
    "# Unless required by applicable law or agreed to in writing, software\n",
    "# distributed under the License is distributed on an \"AS IS\" BASIS,\n",
    "# WITHOUT WARRANTIES OR CONDITIONS OF ANY KIND, either express or implied.\n",
    "# See the License for the specific language governing permissions and\n",
    "# limitations under the License."
   ]
  },
  {
   "cell_type": "markdown",
   "metadata": {
    "id": "JAPoU8Sm5E6e"
   },
   "source": [
    "# Prompt Design - Best Practices\n",
    "\n",
    "<table align=\"left\">\n",
    "  <td style=\"text-align: center\">\n",
    "    <a href=\"https://colab.research.google.com/github/GoogleCloudPlatform/generative-ai/blob/main/gemini/prompts/intro_prompt_design.ipynb\">\n",
    "      <img src=\"https://cloud.google.com/ml-engine/images/colab-logo-32px.png\" alt=\"Google Colaboratory logo\"><br> Open in Colab\n",
    "    </a>\n",
    "  </td>\n",
    "  <td style=\"text-align: center\">\n",
    "    <a href=\"https://console.cloud.google.com/vertex-ai/colab/import/https:%2F%2Fraw.githubusercontent.com%2FGoogleCloudPlatform%2Fgenerative-ai%2Fmain%2Fgemini%2Fprompts%2Fintro_prompt_design.ipynb\">\n",
    "      <img width=\"32px\" src=\"https://lh3.googleusercontent.com/JmcxdQi-qOpctIvWKgPtrzZdJJK-J3sWE1RsfjZNwshCFgE_9fULcNpuXYTilIR2hjwN\" alt=\"Google Cloud Colab Enterprise logo\"><br> Open in Colab Enterprise\n",
    "    </a>\n",
    "  </td>    \n",
    "  <td style=\"text-align: center\">\n",
    "    <a href=\"https://console.cloud.google.com/vertex-ai/workbench/deploy-notebook?download_url=https://raw.githubusercontent.com/GoogleCloudPlatform/generative-ai/main/gemini/prompts/intro_prompt_design.ipynb\">\n",
    "      <img src=\"https://lh3.googleusercontent.com/UiNooY4LUgW_oTvpsNhPpQzsstV5W8F7rYgxgGBD85cWJoLmrOzhVs_ksK_vgx40SHs7jCqkTkCk=e14-rj-sc0xffffff-h130-w32\" alt=\"Vertex AI logo\"><br> Open in Workbench\n",
    "    </a>\n",
    "  </td>\n",
    "  <td style=\"text-align: center\">\n",
    "    <a href=\"https://github.com/GoogleCloudPlatform/generative-ai/blob/main/gemini/prompts/intro_prompt_design.ipynb\">\n",
    "      <img src=\"https://cloud.google.com/ml-engine/images/github-logo-32px.png\" alt=\"GitHub logo\"><br> View on GitHub\n",
    "    </a>\n",
    "  </td>\n",
    "</table>"
   ]
  },
  {
   "cell_type": "markdown",
   "metadata": {
    "id": "84f0f73a0f76"
   },
   "source": [
    "| | | |\n",
    "|-|-|-|\n",
    "|Author(s) | [Polong Lin](https://github.com/polong-lin) | [Karl Weinmeister](https://github.com/kweinmeister)|"
   ]
  },
  {
   "cell_type": "markdown",
   "metadata": {
    "id": "tvgnzT1CKxrO"
   },
   "source": [
    "## Overview\n",
    "\n",
    "This notebook covers the essentials of prompt engineering, including some best practices.\n",
    "\n",
    "Learn more about prompt design in the [official documentation](https://cloud.google.com/vertex-ai/docs/generative-ai/text/text-overview).\n",
    "\n",
    "In this notebook, you learn best practices around prompt engineering -- how to design prompts to improve the quality of your responses. \n",
    "\n",
    "This notebook covers the following best practices for prompt engineering:\n",
    "\n",
    "- Be concise\n",
    "- Be specific and well-defined\n",
    "- Ask one task at a time\n",
    "- Turn generative tasks into classification tasks\n",
    "- Improve response quality by including examples"
   ]
  },
  {
   "cell_type": "markdown",
   "metadata": {
    "id": "61RBz8LLbxCR"
   },
   "source": [
    "## Getting Started"
   ]
  },
  {
   "cell_type": "markdown",
   "metadata": {
    "id": "No17Cw5hgx12"
   },
   "source": [
    "### Install Vertex AI SDK and other required packages\n"
   ]
  },
  {
   "cell_type": "code",
   "execution_count": 1,
   "metadata": {
    "id": "tFy3H3aPgx12",
    "tags": []
   },
   "outputs": [
    {
     "name": "stdout",
     "output_type": "stream",
     "text": [
      "Note: you may need to restart the kernel to use updated packages.\n"
     ]
    }
   ],
   "source": [
    "%pip install --upgrade --user --quiet google-cloud-aiplatform"
   ]
  },
  {
   "cell_type": "markdown",
   "metadata": {
    "id": "R5Xep4W9lq-Z"
   },
   "source": [
    "### Restart runtime\n",
    "\n",
    "To use the newly installed packages in this Jupyter runtime, you must restart the runtime. You can do this by running the cell below, which will restart the current kernel."
   ]
  },
  {
   "cell_type": "code",
   "execution_count": 2,
   "metadata": {
    "id": "XRvKdaPDTznN",
    "tags": []
   },
   "outputs": [
    {
     "data": {
      "text/plain": [
       "{'status': 'ok', 'restart': True}"
      ]
     },
     "execution_count": 2,
     "metadata": {},
     "output_type": "execute_result"
    }
   ],
   "source": [
    "import IPython\n",
    "\n",
    "app = IPython.Application.instance()\n",
    "app.kernel.do_shutdown(True)"
   ]
  },
  {
   "cell_type": "markdown",
   "metadata": {
    "id": "SbmM4z7FOBpM"
   },
   "source": [
    "<div class=\"alert alert-block alert-warning\">\n",
    "<b>⚠️ The kernel is going to restart. Please wait until it is finished before continuing to the next step. ⚠️</b>\n",
    "</div>\n"
   ]
  },
  {
   "cell_type": "markdown",
   "metadata": {
    "id": "dmWOrTJ3gx13"
   },
   "source": [
    "### Authenticate your notebook environment (Colab only)\n",
    "\n",
    "Authenticate your environment on Google Colab.\n"
   ]
  },
  {
   "cell_type": "code",
   "execution_count": 4,
   "metadata": {
    "id": "NyKGtVQjgx13",
    "tags": []
   },
   "outputs": [],
   "source": [
    "import sys\n",
    "\n",
    "if \"google.colab\" in sys.modules:\n",
    "    from google.colab import auth\n",
    "\n",
    "    auth.authenticate_user()"
   ]
  },
  {
   "cell_type": "markdown",
   "metadata": {
    "id": "DF4l8DTdWgPY"
   },
   "source": [
    "### Set Google Cloud project information and initialize Vertex AI SDK\n",
    "\n",
    "To get started using Vertex AI, you must have an existing Google Cloud project and [enable the Vertex AI API](https://console.cloud.google.com/flows/enableapi?apiid=aiplatform.googleapis.com).\n",
    "\n",
    "Learn more about [setting up a project and a development environment](https://cloud.google.com/vertex-ai/docs/start/cloud-environment)."
   ]
  },
  {
   "cell_type": "code",
   "execution_count": 1,
   "metadata": {
    "id": "Nqwi-5ufWp_B",
    "tags": []
   },
   "outputs": [],
   "source": [
    "PROJECT_ID = \"qwiklabs-gcp-03-b4b21a101e96\"  # @param {type:\"string\"}\n",
    "LOCATION = \"us-east4\"  # @param {type:\"string\"}\n",
    "\n",
    "import vertexai\n",
    "\n",
    "vertexai.init(project=PROJECT_ID, location=LOCATION)"
   ]
  },
  {
   "cell_type": "code",
   "execution_count": 2,
   "metadata": {
    "id": "QqRWdPGmW3NJ",
    "tags": []
   },
   "outputs": [],
   "source": [
    "from vertexai.generative_models import GenerationConfig, GenerativeModel\n",
    "import time"
   ]
  },
  {
   "cell_type": "markdown",
   "metadata": {
    "id": "OnFPpCRtXRl4"
   },
   "source": [
    "### Load model"
   ]
  },
  {
   "cell_type": "code",
   "execution_count": 3,
   "metadata": {
    "id": "IQYu_9SvXQah",
    "tags": []
   },
   "outputs": [],
   "source": [
    "model = GenerativeModel(\"gemini-1.5-flash\")"
   ]
  },
  {
   "cell_type": "code",
   "execution_count": 4,
   "metadata": {
    "tags": []
   },
   "outputs": [],
   "source": [
    "import time\n",
    "\n",
    "def call_gemini(prompt, generation_config=GenerationConfig(temperature=1.0)):\n",
    "    wait_time = 1\n",
    "    while True:\n",
    "        try:\n",
    "            response = model.generate_content(prompt, generation_config=generation_config).text\n",
    "            return response\n",
    "            break  # Exit the loop if successful\n",
    "        except Exception as e:  # Replace with the actual exception type\n",
    "            time.sleep(wait_time)\n",
    "            wait_time *= 2  # Double the wait time\n",
    "\n",
    "def send_message_gemini(model, prompt):    \n",
    "    wait_time = 1\n",
    "    while True:\n",
    "        try:\n",
    "            response = model.send_message(prompt).text\n",
    "            return response\n",
    "            break  # Exit the loop if successful\n",
    "        except Exception as e:  # Replace with the actual exception type\n",
    "            time.sleep(wait_time)\n",
    "            wait_time *= 2  # Double the wait time"
   ]
  },
  {
   "cell_type": "markdown",
   "metadata": {
    "id": "cVOtUNJ5X0PY"
   },
   "source": [
    "## Prompt engineering best practices"
   ]
  },
  {
   "cell_type": "markdown",
   "metadata": {
    "id": "uv_e0fEPX60q"
   },
   "source": [
    "Prompt engineering is all about how to design your prompts so that the response is what you were indeed hoping to see.\n",
    "\n",
    "The idea of using \"unfancy\" prompts is to minimize the noise in your prompt to reduce the possibility of the LLM misinterpreting the intent of the prompt. Below are a few guidelines on how to engineer \"unfancy\" prompts.\n",
    "\n",
    "In this section, you'll cover the following best practices when engineering prompts:\n",
    "\n",
    "* Be concise\n",
    "* Be specific, and well-defined\n",
    "* Ask one task at a time\n",
    "* Improve response quality by including examples\n",
    "* Turn generative tasks to classification tasks to improve safety"
   ]
  },
  {
   "cell_type": "markdown",
   "metadata": {
    "id": "0pY4XX0OX9_Y"
   },
   "source": [
    "### Be concise"
   ]
  },
  {
   "cell_type": "markdown",
   "metadata": {
    "id": "xlRpxyxGYA1K"
   },
   "source": [
    "🛑 Not recommended. The prompt below is unnecessarily verbose."
   ]
  },
  {
   "cell_type": "code",
   "execution_count": 5,
   "metadata": {
    "id": "YKV4G-CfXdbi"
   },
   "outputs": [
    {
     "name": "stdout",
     "output_type": "stream",
     "text": [
      "Here are some names for a flower shop specializing in dried flowers, playing on different themes:\n",
      "\n",
      "**Whimsical & Romantic:**\n",
      "\n",
      "* Everlasting Blooms\n",
      "* The Dried Flower Garden\n",
      "* Whispers of Wildflowers\n",
      "* The Petal Press\n",
      "* Bloom & Botanicals\n",
      "* The Dusty Bouquet\n",
      "* Moonflower & Co.\n",
      "\n",
      "**Modern & Minimalist:**\n",
      "\n",
      "* The Bloom Bar\n",
      "* Flora & Fauna\n",
      "* Wild & Dried\n",
      "* Paper Blooms\n",
      "* The Dried Flower Collective\n",
      "* Bloom Alchemy\n",
      "* The Botanical Studio\n",
      "\n",
      "**Rustic & Vintage:**\n",
      "\n",
      "* The Dried Flower Barn\n",
      "* The Old World Blooms\n",
      "* The Herbarium\n",
      "* The Vintage Bouquet\n",
      "* Sun-Kissed Blooms\n",
      "* The Dried Flower Market\n",
      "* Rustic Blooms\n",
      "\n",
      "**Playful & Unique:**\n",
      "\n",
      "* Petal Pushers\n",
      "* Bloom & Beyond\n",
      "* The Flower Fix\n",
      "* Dried & Dandy\n",
      "* The Flower Apothecary\n",
      "* Bloom & Co.\n",
      "* The Flower Fairy\n",
      "\n",
      "**Tips for Choosing a Name:**\n",
      "\n",
      "* **Keep it short and easy to remember.**\n",
      "* **Reflect your brand's personality and aesthetic.**\n",
      "* **Consider your target audience.**\n",
      "* **Check for availability of the name and domain name.**\n",
      "* **Get feedback from friends and family.**\n",
      "\n",
      "Ultimately, the best name for your flower shop is one that resonates with you and accurately reflects your brand. Good luck! \n",
      "\n"
     ]
    }
   ],
   "source": [
    "prompt = \"What do you think could be a good name for a flower shop that specializes in selling bouquets of dried flowers more than fresh flowers?\"\n",
    "\n",
    "print(call_gemini(prompt))"
   ]
  },
  {
   "cell_type": "markdown",
   "metadata": {
    "id": "YrJexRHJYnmC"
   },
   "source": [
    "✅ Recommended. The prompt below is to the point and concise."
   ]
  },
  {
   "cell_type": "code",
   "execution_count": 6,
   "metadata": {
    "id": "VHetn9lCYrXB"
   },
   "outputs": [
    {
     "name": "stdout",
     "output_type": "stream",
     "text": [
      "## Catchy & Chic:\n",
      "\n",
      "* Bloom & Breathe\n",
      "* The Dried Petal\n",
      "* Everlasting Blooms\n",
      "* Whispers of Bloom\n",
      "* Flora Forever\n",
      "* Petal & Ink\n",
      "* Bloom & Bone\n",
      "* The Dried Bouquet\n",
      "* The Flower Archivist\n",
      "\n",
      "## Rustic & Natural:\n",
      "\n",
      "* Field & Fern\n",
      "* The Wildflower Studio\n",
      "* Sun-Kissed Blooms\n",
      "* The Dried Garden\n",
      "* Rustic Blooms\n",
      "* The Harvest Bouquet\n",
      "* The Meadow Muse\n",
      "* Willow & Thistle\n",
      "\n",
      "## Unique & Playful:\n",
      "\n",
      "* The Flower Apothecary\n",
      "* The Botanical Bar\n",
      "* The Bloom Collective\n",
      "* The Dried Dream\n",
      "* Timeless Blooms\n",
      "* Paper & Petal\n",
      "* The Flower Library\n",
      "* The Bloom Box\n",
      "\n",
      "##  Name + Location:\n",
      "\n",
      "* [Your Town] Dried Flowers\n",
      "* The [Your Street] Flower Shop\n",
      "* [Your Name] Dried Florals\n",
      "* The [Your Neighborhood] Blooms\n",
      "\n",
      "**Bonus Tip:** \n",
      "Consider including a tagline to further clarify your brand, such as: \n",
      "* \"Dried Flowers that Last a Lifetime\"\n",
      "* \"Bringing the Beauty of Nature Indoors\"\n",
      "* \"Preserving the Moment, Forever\"\n",
      "\n",
      "**To choose the best name for your shop, think about:**\n",
      "\n",
      "* Your target audience\n",
      "* The overall aesthetic and feel of your shop\n",
      "* The types of dried flower arrangements you specialize in\n",
      "\n",
      "Good luck!\n"
     ]
    }
   ],
   "source": [
    "prompt = \"Suggest a name for a flower shop that sells bouquets of dried flowers\"\n",
    "\n",
    "print(call_gemini(prompt))"
   ]
  },
  {
   "cell_type": "markdown",
   "metadata": {
    "id": "eXTAvdOHY0OC"
   },
   "source": [
    "### Be specific, and well-defined"
   ]
  },
  {
   "cell_type": "markdown",
   "metadata": {
    "id": "FTH4GEIgY1dp"
   },
   "source": [
    "Suppose that you want to brainstorm creative ways to describe Earth."
   ]
  },
  {
   "cell_type": "markdown",
   "metadata": {
    "id": "o5BmXBiGY4KC"
   },
   "source": [
    "🛑 The prompt below might be a bit too generic (which is certainly OK if you'd like to ask a generic question!)"
   ]
  },
  {
   "cell_type": "code",
   "execution_count": 7,
   "metadata": {
    "id": "eHBaMvv7Y6mR"
   },
   "outputs": [
    {
     "name": "stdout",
     "output_type": "stream",
     "text": [
      "## Earth: Our Home Planet\n",
      "\n",
      "Earth is the third planet from the Sun and the only known celestial body to harbor life. Here's a glimpse into its wonders:\n",
      "\n",
      "**Basics:**\n",
      "\n",
      "* **Size:** Diameter of 12,742 km (7,926 miles)\n",
      "* **Mass:** 5.972 × 10^24 kg \n",
      "* **Composition:** Primarily iron, nickel, silicon, oxygen, magnesium, sulfur, and aluminum\n",
      "* **Age:** Approximately 4.54 billion years old\n",
      "\n",
      "**Unique Features:**\n",
      "\n",
      "* **Liquid Water:** Earth is the only planet in our solar system with abundant liquid water, crucial for life as we know it.\n",
      "* **Atmosphere:** Our atmosphere, composed mainly of nitrogen and oxygen, protects us from harmful solar radiation and allows for weather patterns.\n",
      "* **Plate Tectonics:** The Earth's crust is divided into plates that move and interact, leading to geological phenomena like earthquakes, volcanic eruptions, and mountain formation.\n",
      "* **Magnetic Field:** Earth's magnetic field protects us from the Sun's harmful solar wind.\n",
      "* **Biodiversity:** Earth boasts an incredible variety of life forms, from microscopic organisms to giant whales, making it the only known planet with such a rich biosphere.\n",
      "\n",
      "**Key Characteristics:**\n",
      "\n",
      "* **Climate:** Earth's climate is diverse, ranging from scorching deserts to icy polar regions.\n",
      "* **Weather:**  The dynamic atmosphere creates various weather patterns, including rain, snow, storms, and sunshine.\n",
      "* **Seasons:** The tilt of Earth's axis causes seasonal changes in sunlight and temperature.\n",
      "* **Gravity:** Earth's gravitational pull keeps us grounded and influences the movement of the oceans, atmosphere, and even our bodies.\n",
      "\n",
      "**Challenges and Future:**\n",
      "\n",
      "* **Climate Change:** Human activities are altering the Earth's climate, leading to rising temperatures, sea levels, and extreme weather events.\n",
      "* **Environmental Degradation:** Pollution, deforestation, and resource depletion pose threats to our planet's ecosystems and human health.\n",
      "* **Space Exploration:** Continued exploration of space helps us understand our place in the universe and potentially find other habitable planets.\n",
      "\n",
      "**Earth is a dynamic and complex planet, offering endless wonder and challenges.  It's our responsibility to care for and protect this unique home.** \n",
      "\n"
     ]
    }
   ],
   "source": [
    "prompt = \"Tell me about Earth\"\n",
    "\n",
    "print(call_gemini(prompt))"
   ]
  },
  {
   "cell_type": "markdown",
   "metadata": {
    "id": "4iyvEbteZnFL"
   },
   "source": [
    "✅ Recommended. The prompt below is specific and well-defined."
   ]
  },
  {
   "cell_type": "code",
   "execution_count": 8,
   "metadata": {
    "id": "JQ80z8urZnne"
   },
   "outputs": [
    {
     "name": "stdout",
     "output_type": "stream",
     "text": [
      "## What makes Earth unique? \n",
      "\n",
      "Earth stands out from other planets in our solar system and likely beyond, thanks to a remarkable combination of factors:\n",
      "\n",
      "**1. Liquid Water:**  Earth is the only known planet with abundant liquid water on its surface. This is crucial for life as we know it, serving as a solvent, transporting nutrients, and playing a vital role in numerous biological processes.\n",
      "\n",
      "**2. Plate Tectonics:** Earth's constantly shifting tectonic plates create mountains, volcanoes, and earthquakes. This dynamic process also plays a role in regulating climate and recycling nutrients through the Earth's crust.\n",
      "\n",
      "**3. Atmosphere:** Earth's atmosphere, rich in oxygen and nitrogen, protects us from harmful solar radiation, regulates temperature, and supports weather patterns.\n",
      "\n",
      "**4. Magnetic Field:**  Earth's magnetic field acts as a shield against harmful solar wind, protecting life from radiation.\n",
      "\n",
      "**5. Distance from the Sun:** Earth's orbit is located within the habitable zone, known as the \"Goldilocks Zone\", where temperatures are suitable for liquid water to exist.\n",
      "\n",
      "**6. Diverse Life:** Earth is the only known planet with a vast and complex biosphere, teeming with diverse life forms from microscopic bacteria to giant whales.\n",
      "\n",
      "**7. Moons:**  Earth's moon, unlike the moons of other terrestrial planets, is exceptionally large relative to its host planet. It stabilizes Earth's axis, moderating the planet's climate and contributing to the tides.\n",
      "\n",
      "**8. Organic Molecules:**  Earth is rich in organic molecules, the building blocks of life, found in diverse environments, including ancient rocks and meteorites.\n",
      "\n",
      "**9. Active Geological Processes:** Earth is a geologically active planet, constantly undergoing processes like volcanism, erosion, and sedimentation, which shape its surface and contribute to its unique features.\n",
      "\n",
      "**10. Potential for Habitable Zones:**  While Earth is the only confirmed habitable planet, scientists are actively searching for other planets with similar characteristics, indicating that Earth might not be alone in the universe.\n",
      "\n",
      "This unique combination of factors has created a planet capable of supporting complex life, making Earth truly special.  It remains to be seen if other planets with similar attributes exist, but for now, Earth stands as a beacon of life and wonder in the vastness of space.\n",
      "\n"
     ]
    }
   ],
   "source": [
    "prompt = \"Generate a list of ways that makes Earth unique compared to other planets\"\n",
    "\n",
    "print(call_gemini(prompt))"
   ]
  },
  {
   "cell_type": "markdown",
   "metadata": {
    "id": "R5kmfZYHZsJ7"
   },
   "source": [
    "### Ask one task at a time"
   ]
  },
  {
   "cell_type": "markdown",
   "metadata": {
    "id": "rsAezxeYZuUN"
   },
   "source": [
    "🛑 Not recommended. The prompt below has two parts to the question that could be asked separately."
   ]
  },
  {
   "cell_type": "code",
   "execution_count": 9,
   "metadata": {
    "id": "ElywPXpuZtWf"
   },
   "outputs": [
    {
     "name": "stdout",
     "output_type": "stream",
     "text": [
      "Let's tackle these two questions separately:\n",
      "\n",
      "**Boiling Water**\n",
      "\n",
      "The best method of boiling water depends on your specific needs and available resources. Here's a breakdown of common methods:\n",
      "\n",
      "* **Stovetop:** This is the most common method for boiling water. Simply fill a pot with water, place it on a stove burner, and turn the heat to high. This method is efficient and works well for most situations.\n",
      "* **Microwave:** You can boil water in a microwave-safe container. This method is faster than stovetop boiling, but it's important to use a container specifically designed for microwave use and avoid overheating.\n",
      "* **Electric Kettle:** Electric kettles are designed specifically for boiling water. They are efficient and fast, and they often feature automatic shut-off features for safety. \n",
      "* **Camping Kettle:** If you're outdoors, a camping kettle can be a great option. They are lightweight and portable, and some models even have a built-in whistle to alert you when the water boils.\n",
      "\n",
      "**Why is the Sky Blue?**\n",
      "\n",
      "The sky appears blue due to a phenomenon called **Rayleigh scattering**. Here's the breakdown:\n",
      "\n",
      "1. **Sunlight:** Sunlight is made up of all the colors of the rainbow, including blue.\n",
      "2. **Atmosphere:** The Earth's atmosphere is filled with tiny particles of air molecules.\n",
      "3. **Scattering:** When sunlight enters the atmosphere, it interacts with these particles. Blue light, with its shorter wavelength, is scattered more effectively than other colors by these air molecules.\n",
      "4. **Our Eyes:**  This scattered blue light reaches our eyes from all directions, making the sky appear blue.\n",
      "\n",
      "**Additional Notes:**\n",
      "\n",
      "* The sky can appear other colors at different times of day, such as red or orange at sunrise and sunset, due to the way the sunlight interacts with the atmosphere at those angles.\n",
      "* At higher altitudes, the sky appears darker blue because there is less air to scatter the light.\n",
      "* Clouds appear white because they are made up of larger water droplets that scatter all wavelengths of light equally.\n",
      "\n",
      "Let me know if you have any more questions! \n",
      "\n"
     ]
    }
   ],
   "source": [
    "prompt = \"What's the best method of boiling water and why is the sky blue?\"\n",
    "\n",
    "print(call_gemini(prompt))"
   ]
  },
  {
   "cell_type": "markdown",
   "metadata": {
    "id": "ejzahazBZ8vk"
   },
   "source": [
    "✅ Recommended. The prompts below asks one task a time."
   ]
  },
  {
   "cell_type": "code",
   "execution_count": 10,
   "metadata": {
    "id": "C5ckp2F0Z_Ba"
   },
   "outputs": [
    {
     "name": "stdout",
     "output_type": "stream",
     "text": [
      "The \"best\" method of boiling water really depends on your needs and preferences. Here's a breakdown of common methods and their pros and cons:\n",
      "\n",
      "**1. Stovetop:**\n",
      "\n",
      "* **Pros:** Most versatile, allows for larger quantities, can be easily controlled.\n",
      "* **Cons:** Can take longer than electric kettles, requires constant attention.\n",
      "* **Best for:** When you need a large amount of boiling water or prefer the control it offers.\n",
      "\n",
      "**2. Electric Kettle:**\n",
      "\n",
      "* **Pros:** Fastest method, convenient, usually has automatic shut-off.\n",
      "* **Cons:** Limited capacity, can be noisy.\n",
      "* **Best for:** When speed is a priority and you only need a small amount of water.\n",
      "\n",
      "**3. Microwave:**\n",
      "\n",
      "* **Pros:** Quick, convenient, energy-efficient.\n",
      "* **Cons:** Can be uneven heating, limited capacity, not suitable for all containers.\n",
      "* **Best for:** Small quantities of water, when you need it quickly.\n",
      "\n",
      "**4. Water Boiler:**\n",
      "\n",
      "* **Pros:** Continuous hot water supply, can be used for other purposes like making tea.\n",
      "* **Cons:** More expensive, takes up more counter space.\n",
      "* **Best for:** Frequent hot water users, those who like having hot water readily available.\n",
      "\n",
      "**Here are some additional factors to consider:**\n",
      "\n",
      "* **Type of cookware:** Use a pot or kettle made of stainless steel, glass, or enamel for best results. Avoid using aluminum or copper as they can affect the taste of the water.\n",
      "* **Water source:** If you have hard water, consider using a filter to remove impurities before boiling.\n",
      "* **Desired outcome:** Are you boiling water for drinking, cooking, or making tea? Different uses might require different temperatures.\n",
      "\n",
      "**Ultimately, the best method for boiling water is the one that is most convenient and efficient for you.**\n",
      "\n"
     ]
    }
   ],
   "source": [
    "prompt = \"What's the best method of boiling water?\"\n",
    "\n",
    "print(call_gemini(prompt))"
   ]
  },
  {
   "cell_type": "code",
   "execution_count": 11,
   "metadata": {
    "id": "KwUzhud4aA89"
   },
   "outputs": [
    {
     "name": "stdout",
     "output_type": "stream",
     "text": [
      "The sky is blue because of a phenomenon called **Rayleigh scattering**. Here's the breakdown:\n",
      "\n",
      "* **Sunlight is made up of all colors of the rainbow.**  Think of a prism splitting sunlight into its colors.\n",
      "* **The Earth's atmosphere is filled with tiny particles of gas.**  These particles are much smaller than the wavelengths of visible light.\n",
      "* **When sunlight enters the atmosphere, it interacts with these particles.**  Shorter wavelengths of light, like blue and violet, are scattered more strongly than longer wavelengths, like red and orange.\n",
      "* **This scattered blue light reaches our eyes from all directions, making the sky appear blue.**\n",
      "\n",
      "**Why not violet?** While violet light is scattered even more strongly than blue, our eyes are more sensitive to blue.  \n",
      "\n",
      "**Here are some additional factors:**\n",
      "\n",
      "* **Time of day:** The sky appears more blue at midday because the sunlight travels through less atmosphere. At sunrise and sunset, the light travels through more atmosphere, scattering away more blue light and leaving longer wavelengths, which makes the sky appear red and orange.\n",
      "* **Altitude:**  The sky appears darker blue at higher altitudes because there is less atmosphere to scatter the light. \n",
      "\n",
      "Let me know if you'd like to explore any of these aspects in more detail! \n",
      "\n"
     ]
    }
   ],
   "source": [
    "prompt = \"Why is the sky blue?\"\n",
    "\n",
    "print(call_gemini(prompt))"
   ]
  },
  {
   "cell_type": "markdown",
   "metadata": {
    "id": "PJIL2RTQaGcT"
   },
   "source": [
    "### Watch out for hallucinations"
   ]
  },
  {
   "cell_type": "markdown",
   "metadata": {
    "id": "8Y8kYxrSaHE9"
   },
   "source": [
    "Although LLMs have been trained on a large amount of data, they can generate text containing statements not grounded in truth or reality; these responses from the LLM are often referred to as \"hallucinations\" due to their limited memorization capabilities. Note that simply prompting the LLM to provide a citation isn't a fix to this problem, as there are instances of LLMs providing false or inaccurate citations. Dealing with hallucinations is a fundamental challenge of LLMs and an ongoing research area, so it is important to be cognizant that LLMs may seem to give you confident, correct-sounding statements that are in fact incorrect.\n",
    "\n",
    "Note that if you intend to use LLMs for the creative use cases, hallucinating could actually be quite useful."
   ]
  },
  {
   "cell_type": "markdown",
   "metadata": {
    "id": "8NY5nAGeaJYS"
   },
   "source": [
    "Try the prompt like the one below repeatedly. We set the temperature to 1.0 so that it takes more risks in its choices. It's possible that it may provide an inaccurate, but confident answer."
   ]
  },
  {
   "cell_type": "code",
   "execution_count": 14,
   "metadata": {
    "id": "QALPjEILaM62"
   },
   "outputs": [
    {
     "name": "stdout",
     "output_type": "stream",
     "text": [
      "I do not have access to real-time information, including the current date. To know what day it is, please check a calendar or your device's clock. \n",
      "\n"
     ]
    }
   ],
   "source": [
    "generation_config = GenerationConfig(temperature=1.0)\n",
    "\n",
    "prompt = \"What day is it today?\"\n",
    "\n",
    "print(call_gemini(prompt, generation_config))"
   ]
  },
  {
   "cell_type": "markdown",
   "metadata": {
    "id": "BRkwzbgRbhKt"
   },
   "source": [
    "Since LLMs do not have access to real-time information without further integrations, you may have noticed it hallucinates what day it is today in some of the outputs."
   ]
  },
  {
   "cell_type": "markdown",
   "metadata": {
    "id": "3c811e310d02"
   },
   "source": [
    "### Using system instructions to guardrail the model from irrelevant responses\n",
    "\n",
    "How can we attempt to reduce the chances of irrelevant responses and hallucinations?\n",
    "\n",
    "One way is to provide the LLM with [system instructions](https://cloud.google.com/vertex-ai/generative-ai/docs/multimodal/send-chat-prompts-gemini#system-instructions).\n",
    "\n",
    "Let's see how system instructions works and how you can use them to reduce hallucinations or irrelevant questions for a travel chatbot.\n",
    "\n",
    "Suppose we ask a simple question about one of Italy's most famous tourist spots."
   ]
  },
  {
   "cell_type": "code",
   "execution_count": 15,
   "metadata": {
    "id": "rB6zJU76biFK"
   },
   "outputs": [
    {
     "name": "stdout",
     "output_type": "stream",
     "text": [
      "Milan is a fantastic city for sightseeing! To give you the best recommendation, I need a little more information.  What kind of sights are you interested in? Are you looking for historical landmarks, art museums, shopping, or something else entirely? \n",
      "\n",
      "Tell me more about your interests, and I can suggest some incredible places to visit in Milan! \n",
      "\n"
     ]
    }
   ],
   "source": [
    "model_travel = GenerativeModel(\n",
    "    model_name=\"gemini-1.5-flash\",\n",
    "    system_instruction=[\n",
    "        \"Hello! You are an AI chatbot for a travel web site.\",\n",
    "        \"Your mission is to provide helpful queries for travelers.\",\n",
    "        \"Remember that before you answer a question, you must check to see if it complies with your mission.\",\n",
    "        \"If not, you can say, Sorry I can't answer that question.\",\n",
    "    ],\n",
    ")\n",
    "\n",
    "chat = model_travel.start_chat()\n",
    "\n",
    "prompt = \"What is the best place for sightseeing in Milan, Italy?\"\n",
    "\n",
    "print(send_message_gemini(chat, prompt))"
   ]
  },
  {
   "cell_type": "markdown",
   "metadata": {
    "id": "WZa-Qcf9cF4A"
   },
   "source": [
    "Now let us pretend to be a user asks the chatbot a question that is unrelated to travel."
   ]
  },
  {
   "cell_type": "code",
   "execution_count": 16,
   "metadata": {
    "id": "AZKBIDr2cGnu"
   },
   "outputs": [
    {
     "name": "stdout",
     "output_type": "stream",
     "text": [
      "Sorry, I can't answer that question. I'm an AI chatbot for a travel website, so I can only help you with travel-related queries. \n",
      "\n",
      "Maybe you can ask me about popular restaurants in Milan, or if you have any other travel-related questions, I'd be happy to help! \n",
      "\n"
     ]
    }
   ],
   "source": [
    "prompt = \"What's for dinner?\"\n",
    "\n",
    "print(send_message_gemini(chat, prompt))"
   ]
  },
  {
   "cell_type": "markdown",
   "metadata": {
    "id": "JiUYIhwpctCy"
   },
   "source": [
    "You can see that this way, a guardrail in the prompt prevented the chatbot from veering off course."
   ]
  },
  {
   "cell_type": "markdown",
   "metadata": {
    "id": "ZuuDhA37cvmP"
   },
   "source": [
    "### Turn generative tasks into classification tasks to reduce output variability"
   ]
  },
  {
   "cell_type": "markdown",
   "metadata": {
    "id": "kUCUrsUzczmb"
   },
   "source": [
    "#### Generative tasks lead to higher output variability"
   ]
  },
  {
   "cell_type": "markdown",
   "metadata": {
    "id": "a1xASHAkc46n"
   },
   "source": [
    "The prompt below results in an open-ended response, useful for brainstorming, but response is highly variable."
   ]
  },
  {
   "cell_type": "code",
   "execution_count": 17,
   "metadata": {
    "id": "nPfXQWIacwRf"
   },
   "outputs": [
    {
     "name": "stdout",
     "output_type": "stream",
     "text": [
      "Here are some programming activities tailored for high school students, aiming to improve skills in various ways:\n",
      "\n",
      "**For beginners:**\n",
      "\n",
      "* **Build a simple calculator:**  This project helps solidify basic syntax, arithmetic operations, and input/output.\n",
      "* **Create a text-based adventure game:**  This encourages creative thinking, using conditional statements and loops.\n",
      "* **Develop a simple guessing game:**  Practice using random number generation, loops, and conditional statements.\n",
      "* **Design a basic to-do list:**  Learn about data structures (like lists or arrays) and user input.\n",
      "* **Build a password checker:**  Explore string manipulation, conditional statements, and validation.\n",
      "\n",
      "**For intermediate learners:**\n",
      "\n",
      "* **Create a basic web page with HTML, CSS, and JavaScript:**  Learn about web development fundamentals and start building interactive websites.\n",
      "* **Develop a simple Python script for automating tasks:**  Learn about automation and work with files and data.\n",
      "* **Build a basic chat application:**  Explore networking concepts and real-time communication.\n",
      "* **Design a game with a graphical user interface (GUI):**  Learn about GUI libraries and event handling.\n",
      "* **Develop a program to analyze data from a CSV file:**  Practice working with data, files, and libraries like Pandas (for Python).\n",
      "\n",
      "**For advanced learners:**\n",
      "\n",
      "* **Contribute to an open-source project:**  Gain real-world experience, collaborate with others, and learn from established codebases.\n",
      "* **Build a machine learning model:**  Explore data science and learn about algorithms like linear regression or classification.\n",
      "* **Develop a mobile app using a cross-platform framework:**  Learn about mobile app development and build apps for Android and iOS.\n",
      "* **Create a website with a database backend:**  Learn about database technologies and web application development.\n",
      "* **Develop a game with advanced features:**  Explore game development concepts like physics engines and AI.\n",
      "\n",
      "**To further enhance your learning:**\n",
      "\n",
      "* **Participate in coding competitions:**  Challenge yourself and test your skills against others.\n",
      "* **Join a coding club or community:**  Connect with other programmers, share ideas, and get feedback.\n",
      "* **Take online courses or tutorials:**  Learn from experienced instructors and explore specific programming languages or technologies.\n",
      "* **Read programming books and articles:**  Expand your knowledge base and stay up-to-date with industry trends.\n",
      "* **Experiment with different programming languages:**  Gain a wider perspective and learn about different programming paradigms.\n",
      "\n",
      "**Remember, the most important thing is to choose a project that you are interested in and that will challenge you.** Have fun and enjoy the process of learning!\n",
      "\n"
     ]
    }
   ],
   "source": [
    "prompt = \"I'm a high school student. Recommend me a programming activity to improve my skills.\"\n",
    "\n",
    "print(call_gemini(prompt))"
   ]
  },
  {
   "cell_type": "markdown",
   "metadata": {
    "id": "iAmm9wPYc_1o"
   },
   "source": [
    "#### Classification tasks reduces output variability"
   ]
  },
  {
   "cell_type": "markdown",
   "metadata": {
    "id": "VvRpK_0GdCpf"
   },
   "source": [
    "The prompt below results in a choice and may be useful if you want the output to be easier to control."
   ]
  },
  {
   "cell_type": "code",
   "execution_count": 18,
   "metadata": {
    "id": "kYDKh0r2dAqo"
   },
   "outputs": [
    {
     "name": "stdout",
     "output_type": "stream",
     "text": [
      "As a high school student, all three programming languages have their own merits and can be valuable to learn. Here's a breakdown to help you choose:\n",
      "\n",
      "**a) Learn Python:**\n",
      "\n",
      "* **Pros:**\n",
      "    * **Beginner-friendly:** Python has a simple syntax, making it easier for beginners to grasp.\n",
      "    * **Versatile:** Widely used in web development, data science, machine learning, and more.\n",
      "    * **Large community:** Extensive online resources, libraries, and support available.\n",
      "    * **In-demand:**  Highly sought-after skill in various industries.\n",
      "\n",
      "* **Cons:**\n",
      "    * **Not as fast as some other languages:** Python can be slower than compiled languages for certain tasks.\n",
      "\n",
      "**b) Learn JavaScript:**\n",
      "\n",
      "* **Pros:**\n",
      "    * **Interactive web development:**  Essential for creating dynamic and interactive web pages.\n",
      "    * **Front-end and back-end:**  Can be used for both client-side and server-side development.\n",
      "    * **Growing ecosystem:** Constantly evolving with new libraries and frameworks.\n",
      "    * **High demand:**  Essential for modern web development.\n",
      "\n",
      "* **Cons:**\n",
      "    * **More complex syntax:** Requires more effort to learn compared to Python.\n",
      "\n",
      "**c) Learn Fortran:**\n",
      "\n",
      "* **Pros:**\n",
      "    * **High-performance computing:**  Traditionally used in scientific computing and engineering due to its speed.\n",
      "    * **Legacy code:**  Many scientific applications still use Fortran, so knowledge can be useful.\n",
      "\n",
      "* **Cons:**\n",
      "    * **Less versatile:**  Primarily used in specialized fields.\n",
      "    * **Older language:**  Not as widely used as Python or JavaScript.\n",
      "    * **Steeper learning curve:**  Can be challenging for beginners.\n",
      "\n",
      "**Recommendation:**\n",
      "\n",
      "* **If you're interested in web development, data science, machine learning, or general programming, Python is a great place to start.** It's a versatile language with a large community and is in high demand.\n",
      "* **If you're interested in interactive web development, JavaScript is a must-learn.** It's essential for creating modern websites and web applications.\n",
      "* **Fortran is a good choice if you are specifically interested in scientific computing or have a need to work with legacy code.**\n",
      "\n",
      "**Ultimately, the best language to learn depends on your interests and goals.  Consider the following factors:**\n",
      "\n",
      "* **What are you passionate about?**  Do you want to build websites, analyze data, or create simulations?\n",
      "* **What career path do you envision?**  Research the languages used in the industries you are interested in.\n",
      "* **What resources are available to you?**  Are there online courses, tutorials, or local meetups for the languages you are considering?\n",
      "\n",
      "Start with a language that excites you, and you'll be more likely to stick with it and develop your skills. \n",
      "\n"
     ]
    }
   ],
   "source": [
    "prompt = \"\"\"I'm a high school student. Which of these activities do you suggest and why:\n",
    "a) learn Python\n",
    "b) learn JavaScript\n",
    "c) learn Fortran\n",
    "\"\"\"\n",
    "\n",
    "print(call_gemini(prompt))"
   ]
  },
  {
   "cell_type": "markdown",
   "metadata": {
    "id": "iTd60b1GdIsx"
   },
   "source": [
    "### Improve response quality by including examples"
   ]
  },
  {
   "cell_type": "markdown",
   "metadata": {
    "id": "yJi44NejdJYE"
   },
   "source": [
    "Another way to improve response quality is to add examples in your prompt. The LLM learns in-context from the examples on how to respond. Typically, one to five examples (shots) are enough to improve the quality of responses. Including too many examples can cause the model to over-fit the data and reduce the quality of responses.\n",
    "\n",
    "Similar to classical model training, the quality and distribution of the examples is very important. Pick examples that are representative of the scenarios that you need the model to learn, and keep the distribution of the examples (e.g. number of examples per class in the case of classification) aligned with your actual distribution."
   ]
  },
  {
   "cell_type": "markdown",
   "metadata": {
    "id": "sMbLginWdOKs"
   },
   "source": [
    "#### Zero-shot prompt"
   ]
  },
  {
   "cell_type": "markdown",
   "metadata": {
    "id": "Crh2Loi2dQ0v"
   },
   "source": [
    "Below is an example of zero-shot prompting, where you don't provide any examples to the LLM within the prompt itself."
   ]
  },
  {
   "cell_type": "code",
   "execution_count": 19,
   "metadata": {
    "id": "-7myRc-SdTQ4"
   },
   "outputs": [
    {
     "name": "stdout",
     "output_type": "stream",
     "text": [
      "Sentiment: **Positive** \n",
      "\n"
     ]
    }
   ],
   "source": [
    "prompt = \"\"\"Decide whether a Tweet's sentiment is positive, neutral, or negative.\n",
    "\n",
    "Tweet: I loved the new YouTube video you made!\n",
    "Sentiment:\n",
    "\"\"\"\n",
    "\n",
    "print(call_gemini(prompt))"
   ]
  },
  {
   "cell_type": "markdown",
   "metadata": {
    "id": "ucRtPn9SdL64"
   },
   "source": [
    "#### One-shot prompt"
   ]
  },
  {
   "cell_type": "markdown",
   "metadata": {
    "id": "rs0gQH2vdYBi"
   },
   "source": [
    "Below is an example of one-shot prompting, where you provide one example to the LLM within the prompt to give some guidance on what type of response you want."
   ]
  },
  {
   "cell_type": "code",
   "execution_count": 20,
   "metadata": {
    "id": "iEq-KxGYdaT5"
   },
   "outputs": [
    {
     "name": "stdout",
     "output_type": "stream",
     "text": [
      "Sentiment: **negative** \n",
      "\n"
     ]
    }
   ],
   "source": [
    "prompt = \"\"\"Decide whether a Tweet's sentiment is positive, neutral, or negative.\n",
    "\n",
    "Tweet: I loved the new YouTube video you made!\n",
    "Sentiment: positive\n",
    "\n",
    "Tweet: That was awful. Super boring 😠\n",
    "Sentiment:\n",
    "\"\"\"\n",
    "\n",
    "print(call_gemini(prompt))"
   ]
  },
  {
   "cell_type": "markdown",
   "metadata": {
    "id": "JnKLjJzmdfL_"
   },
   "source": [
    "#### Few-shot prompt"
   ]
  },
  {
   "cell_type": "markdown",
   "metadata": {
    "id": "6Zv-9F5OdgI_"
   },
   "source": [
    "Below is an example of few-shot prompting, where you provide a few examples to the LLM within the prompt to give some guidance on what type of response you want."
   ]
  },
  {
   "cell_type": "code",
   "execution_count": 21,
   "metadata": {
    "id": "u37P9tG4dk9S"
   },
   "outputs": [
    {
     "name": "stdout",
     "output_type": "stream",
     "text": [
      "Sentiment: **Positive** \n",
      "\n",
      "Here's why:\n",
      "\n",
      "* **\"Something surprised me\"**: This indicates a positive experience. \n",
      "* **\"It was actually original\"**:  This is a compliment and suggests the video is good. \n",
      "* **\"It was not the same old recycled stuff\"**: This implies the video is refreshing and different, a positive attribute. \n",
      "* **\"Watch it - you will not regret it\"**: This is a strong recommendation, clearly positive. \n",
      "\n"
     ]
    }
   ],
   "source": [
    "prompt = \"\"\"Decide whether a Tweet's sentiment is positive, neutral, or negative.\n",
    "\n",
    "Tweet: I loved the new YouTube video you made!\n",
    "Sentiment: positive\n",
    "\n",
    "Tweet: That was awful. Super boring 😠\n",
    "Sentiment: negative\n",
    "\n",
    "Tweet: Something surprised me about this video - it was actually original. It was not the same old recycled stuff that I always see. Watch it - you will not regret it.\n",
    "Sentiment:\n",
    "\"\"\"\n",
    "\n",
    "print(call_gemini(prompt))"
   ]
  },
  {
   "cell_type": "markdown",
   "metadata": {
    "id": "wDMD3xb2dvX6"
   },
   "source": [
    "#### Choosing between zero-shot, one-shot, few-shot prompting methods"
   ]
  },
  {
   "cell_type": "markdown",
   "metadata": {
    "id": "s92W0YpNdxJp"
   },
   "source": [
    "Which prompt technique to use will solely depends on your goal. The zero-shot prompts are more open-ended and can give you creative answers, while one-shot and few-shot prompts teach the model how to behave so you can get more predictable answers that are consistent with the examples provided."
   ]
  }
 ],
 "metadata": {
  "colab": {
   "name": "intro_prompt_design.ipynb",
   "toc_visible": true
  },
  "environment": {
   "kernel": "conda-base-py",
   "name": "workbench-notebooks.m126",
   "type": "gcloud",
   "uri": "us-docker.pkg.dev/deeplearning-platform-release/gcr.io/workbench-notebooks:m126"
  },
  "kernelspec": {
   "display_name": "Python 3 (ipykernel) (Local)",
   "language": "python",
   "name": "conda-base-py"
  },
  "language_info": {
   "codemirror_mode": {
    "name": "ipython",
    "version": 3
   },
   "file_extension": ".py",
   "mimetype": "text/x-python",
   "name": "python",
   "nbconvert_exporter": "python",
   "pygments_lexer": "ipython3",
   "version": "3.10.15"
  }
 },
 "nbformat": 4,
 "nbformat_minor": 4
}
